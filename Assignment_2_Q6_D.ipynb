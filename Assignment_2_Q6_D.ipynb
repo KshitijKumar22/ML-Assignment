{
  "nbformat": 4,
  "nbformat_minor": 0,
  "metadata": {
    "kernelspec": {
      "display_name": "Python 3",
      "language": "python",
      "name": "python3"
    },
    "language_info": {
      "codemirror_mode": {
        "name": "ipython",
        "version": 3
      },
      "file_extension": ".py",
      "mimetype": "text/x-python",
      "name": "python",
      "nbconvert_exporter": "python",
      "pygments_lexer": "ipython3",
      "version": "3.7.7"
    },
    "colab": {
      "name": "Assignment_2_Q6_D.ipynb",
      "provenance": []
    }
  },
  "cells": [
    {
      "cell_type": "code",
      "metadata": {
        "id": "UrMnPlef9BZf"
      },
      "source": [
        "# Kshitij Kumar IIT2019146, IIIT Allahabad"
      ],
      "execution_count": null,
      "outputs": []
    },
    {
      "cell_type": "code",
      "metadata": {
        "colab": {
          "base_uri": "https://localhost:8080/"
        },
        "id": "bO_QQOxn9D3_",
        "outputId": "f63c1d7e-ca1a-49c3-ace6-a199561f565a"
      },
      "source": [
        "from google.colab import drive\n",
        "drive.mount('/content/drive')"
      ],
      "execution_count": 1,
      "outputs": [
        {
          "output_type": "stream",
          "name": "stdout",
          "text": [
            "Mounted at /content/drive\n"
          ]
        }
      ]
    },
    {
      "cell_type": "code",
      "metadata": {
        "id": "V1JDTvhS8_S4"
      },
      "source": [
        "#importing the files\n",
        "import numpy as np\n",
        "import pandas as pda\n",
        "from sklearn.model_selection import train_test_split as tts\n",
        "import matplotlib.pyplot as plt\n",
        "import code2 as cd"
      ],
      "execution_count": null,
      "outputs": []
    },
    {
      "cell_type": "code",
      "metadata": {
        "id": "m8UKmKuI8_S8"
      },
      "source": [
        "#reading the csv file with the help of pandas\n",
        "housingData = pda.read_csv('Housing_price_data_set.csv')"
      ],
      "execution_count": null,
      "outputs": []
    },
    {
      "cell_type": "code",
      "metadata": {
        "id": "We714g5z8_S8"
      },
      "source": [
        "#dropping the Unnamed: 0 axis\n",
        "housingData.drop('Unnamed: 0',axis=1,inplace = True)"
      ],
      "execution_count": null,
      "outputs": []
    },
    {
      "cell_type": "code",
      "metadata": {
        "id": "KLmPleIO8_S8"
      },
      "source": [
        "#dividing the data into training set and testing set\n",
        "trainingSet, testingSet = tts(housingData,test_size=0.3,random_state = 39)"
      ],
      "execution_count": null,
      "outputs": []
    },
    {
      "cell_type": "code",
      "metadata": {
        "id": "HCxl-0Mh8_S9"
      },
      "source": [
        "#taking the lotsize, no of bedrooms and number of bathrooms as X and price as Y\n",
        "trainingX = trainingSet[housingData.columns[1:4]].copy()\n",
        "trainingY = trainingSet['price'].copy()\n",
        "testingX = testingSet[housingData.columns[1:4]].copy()\n",
        "testingY = testingSet['price'].copy()"
      ],
      "execution_count": null,
      "outputs": []
    },
    {
      "cell_type": "code",
      "metadata": {
        "id": "iFtBV0Za8_S9"
      },
      "source": [
        "#converting them to numpy\n",
        "trainingX = trainingX.to_numpy()\n",
        "trainingY = trainingY.to_numpy()\n",
        "testingX = testingX.to_numpy()\n",
        "testingY = testingY.to_numpy()"
      ],
      "execution_count": null,
      "outputs": []
    },
    {
      "cell_type": "code",
      "metadata": {
        "id": "BU0r_yY38_S-"
      },
      "source": [
        "#tau = 0.01\n",
        "predList = []\n",
        "for x in trainingX:\n",
        "    predList.append(cd.LWR(x, trainingX, trainingY, 0.01))"
      ],
      "execution_count": null,
      "outputs": []
    },
    {
      "cell_type": "code",
      "metadata": {
        "id": "NkWvNMvT8_S-"
      },
      "source": [
        "predictedY = []\n",
        "for i in range(len(predList)):\n",
        "    predictedY.append(predList[i][0])"
      ],
      "execution_count": null,
      "outputs": []
    },
    {
      "cell_type": "code",
      "metadata": {
        "id": "v-e1gVJK8_S_"
      },
      "source": [
        "w0 = []\n",
        "for i in range(len(predList)):\n",
        "    w0.append(predList[i][1][0])"
      ],
      "execution_count": null,
      "outputs": []
    },
    {
      "cell_type": "code",
      "metadata": {
        "id": "6RFC8j1C8_TA"
      },
      "source": [
        "w1 = []\n",
        "for i in range(len(predList)):\n",
        "    w1.append(predList[i][1][1])"
      ],
      "execution_count": null,
      "outputs": []
    },
    {
      "cell_type": "code",
      "metadata": {
        "id": "ngqC9cj28_TA"
      },
      "source": [
        "w2 = []\n",
        "for i in range(len(predList)):\n",
        "    w2.append(predList[i][1][2])"
      ],
      "execution_count": null,
      "outputs": []
    },
    {
      "cell_type": "code",
      "metadata": {
        "id": "_hh38LmU8_TA"
      },
      "source": [
        "w3 = []\n",
        "for i in range(len(predList)):\n",
        "    w3.append(predList[i][1][3])"
      ],
      "execution_count": null,
      "outputs": []
    },
    {
      "cell_type": "code",
      "metadata": {
        "id": "lMGvtMwA8_TA"
      },
      "source": [
        "theta0 = np.mean(w0)\n",
        "theta1 = np.mean(w1)\n",
        "theta2 = np.mean(w2)\n",
        "theta3 = np.mean(w3)\n",
        "print('w0: ', theta0)\n",
        "print('w1: ', theta1)\n",
        "print('w2: ', theta2)\n",
        "print('w3: ', theta3)"
      ],
      "execution_count": null,
      "outputs": []
    },
    {
      "cell_type": "code",
      "metadata": {
        "id": "LDEVYLzJ8_TB"
      },
      "source": [
        "difference = np.abs(np.subtract(predictedY,trainingY))\n",
        "yoyo = np.divide(difference, trainingY)\n",
        "error = np.multiply(yoyo,100)\n",
        "accuracy = 100 - np.mean(error)\n",
        "print('Error: ', np.mean(error))\n",
        "print('Accuracy: ', accuracy)"
      ],
      "execution_count": null,
      "outputs": []
    },
    {
      "cell_type": "code",
      "metadata": {
        "id": "KNXfkK1e8_TB"
      },
      "source": [
        "#tau = 0.5\n",
        "predList = []\n",
        "for x in trainingX:\n",
        "    predList.append(cd.LWR(x, trainingX, trainingY, 0.5))"
      ],
      "execution_count": null,
      "outputs": []
    },
    {
      "cell_type": "code",
      "metadata": {
        "id": "c-Kl7Hrj8_TB"
      },
      "source": [
        "predictedY = []\n",
        "for i in range(len(predList)):\n",
        "    predictedY.append(predList[i][0])"
      ],
      "execution_count": null,
      "outputs": []
    },
    {
      "cell_type": "code",
      "metadata": {
        "id": "IHaNhWMV8_TB"
      },
      "source": [
        "w0 = []\n",
        "for i in range(len(predList)):\n",
        "    w0.append(predList[i][1][0])"
      ],
      "execution_count": null,
      "outputs": []
    },
    {
      "cell_type": "code",
      "metadata": {
        "id": "oN7vCkRm8_TB"
      },
      "source": [
        "w1 = []\n",
        "for i in range(len(predList)):\n",
        "    w1.append(predList[i][1][1])"
      ],
      "execution_count": null,
      "outputs": []
    },
    {
      "cell_type": "code",
      "metadata": {
        "id": "8tNTuD5m8_TC"
      },
      "source": [
        "w2 = []\n",
        "for i in range(len(predList)):\n",
        "    w2.append(predList[i][1][2])"
      ],
      "execution_count": null,
      "outputs": []
    },
    {
      "cell_type": "code",
      "metadata": {
        "id": "rU1gqwfc8_TC"
      },
      "source": [
        "w3 = []\n",
        "for i in range(len(predList)):\n",
        "    w3.append(predList[i][1][3])"
      ],
      "execution_count": null,
      "outputs": []
    },
    {
      "cell_type": "code",
      "metadata": {
        "id": "vnl3ms8G8_TC"
      },
      "source": [
        "theta0 = np.mean(w0)\n",
        "theta1 = np.mean(w1)\n",
        "theta2 = np.mean(w2)\n",
        "theta3 = np.mean(w3)\n",
        "print('w0: ', theta0)\n",
        "print('w1: ', theta1)\n",
        "print('w2: ', theta2)\n",
        "print('w3: ', theta3)"
      ],
      "execution_count": null,
      "outputs": []
    },
    {
      "cell_type": "code",
      "metadata": {
        "id": "WEFqqVTM8_TC"
      },
      "source": [
        "difference = np.abs(np.subtract(predictedY,trainingY))\n",
        "yoyo = np.divide(difference, trainingY)\n",
        "error = np.multiply(yoyo,100)\n",
        "accuracy = 100 - np.mean(error)\n",
        "print('Error: ', np.mean(error))\n",
        "print('Accuracy: ', accuracy)"
      ],
      "execution_count": null,
      "outputs": []
    },
    {
      "cell_type": "code",
      "metadata": {
        "id": "QfEcwfE-8_TC"
      },
      "source": [
        "#tau = 1.0\n",
        "predList = []\n",
        "for x in trainingX:\n",
        "    predList.append(cd.LWR(x, trainingX, trainingY, 1.))"
      ],
      "execution_count": null,
      "outputs": []
    },
    {
      "cell_type": "code",
      "metadata": {
        "id": "QCoYSBdT8_TD"
      },
      "source": [
        "predictedY = []\n",
        "for i in range(len(predList)):\n",
        "    predictedY.append(predList[i][0])"
      ],
      "execution_count": null,
      "outputs": []
    },
    {
      "cell_type": "code",
      "metadata": {
        "id": "WwOyXLnl8_TD"
      },
      "source": [
        "w0 = []\n",
        "for i in range(len(predList)):\n",
        "    w0.append(predList[i][1][0])"
      ],
      "execution_count": null,
      "outputs": []
    },
    {
      "cell_type": "code",
      "metadata": {
        "id": "0PkoNB0-8_TD"
      },
      "source": [
        "w1 = []\n",
        "for i in range(len(predList)):\n",
        "    w1.append(predList[i][1][1])"
      ],
      "execution_count": null,
      "outputs": []
    },
    {
      "cell_type": "code",
      "metadata": {
        "id": "sQqJiTj98_TD"
      },
      "source": [
        "w2 = []\n",
        "for i in range(len(predList)):\n",
        "    w2.append(predList[i][1][2])"
      ],
      "execution_count": null,
      "outputs": []
    },
    {
      "cell_type": "code",
      "metadata": {
        "id": "pGWhvd2o8_TD"
      },
      "source": [
        "w3 = []\n",
        "for i in range(len(predList)):\n",
        "    w3.append(predList[i][1][3])"
      ],
      "execution_count": null,
      "outputs": []
    },
    {
      "cell_type": "code",
      "metadata": {
        "id": "PNsnckwx8_TD"
      },
      "source": [
        "theta0 = np.mean(w0)\n",
        "theta1 = np.mean(w1)\n",
        "theta2 = np.mean(w2)\n",
        "theta3 = np.mean(w3)\n",
        "print('w0: ', theta0)\n",
        "print('w1: ', theta1)\n",
        "print('w2: ', theta2)\n",
        "print('w3: ', theta3)"
      ],
      "execution_count": null,
      "outputs": []
    },
    {
      "cell_type": "code",
      "metadata": {
        "id": "5QmYRZQY8_TD"
      },
      "source": [
        "difference = np.abs(np.subtract(predictedY,trainingY))\n",
        "yoyo = np.divide(difference, trainingY)\n",
        "error = np.multiply(yoyo,100)\n",
        "accuracy = 100 - np.mean(error)\n",
        "print('Error: ', np.mean(error))\n",
        "print('Accuracy: ', accuracy)"
      ],
      "execution_count": null,
      "outputs": []
    },
    {
      "cell_type": "code",
      "metadata": {
        "id": "wghXx0U48_TE"
      },
      "source": [
        "#tau = 1.0\n",
        "predList = []\n",
        "for x in trainingX:\n",
        "    predList.append(cd.LWR(x, trainingX, trainingY, 5.))"
      ],
      "execution_count": null,
      "outputs": []
    },
    {
      "cell_type": "code",
      "metadata": {
        "id": "bGlg8S1J8_TE"
      },
      "source": [
        "predictedY = []\n",
        "for i in range(len(predList)):\n",
        "    predictedY.append(predList[i][0])"
      ],
      "execution_count": null,
      "outputs": []
    },
    {
      "cell_type": "code",
      "metadata": {
        "id": "D0zdwO-O8_TE"
      },
      "source": [
        "w0 = []\n",
        "for i in range(len(predList)):\n",
        "    w0.append(predList[i][1][0])"
      ],
      "execution_count": null,
      "outputs": []
    },
    {
      "cell_type": "code",
      "metadata": {
        "id": "Dw7WCh1t8_TE"
      },
      "source": [
        "w1 = []\n",
        "for i in range(len(predList)):\n",
        "    w1.append(predList[i][1][1])"
      ],
      "execution_count": null,
      "outputs": []
    },
    {
      "cell_type": "code",
      "metadata": {
        "id": "kQL5tdT58_TE"
      },
      "source": [
        "w2 = []\n",
        "for i in range(len(predList)):\n",
        "    w2.append(predList[i][1][2])"
      ],
      "execution_count": null,
      "outputs": []
    },
    {
      "cell_type": "code",
      "metadata": {
        "id": "zj7dfuXH8_TE"
      },
      "source": [
        "w3 = []\n",
        "for i in range(len(predList)):\n",
        "    w3.append(predList[i][1][3])"
      ],
      "execution_count": null,
      "outputs": []
    },
    {
      "cell_type": "code",
      "metadata": {
        "id": "pXc57xhe8_TE"
      },
      "source": [
        "theta0 = np.mean(w0)\n",
        "theta1 = np.mean(w1)\n",
        "theta2 = np.mean(w2)\n",
        "theta3 = np.mean(w3)\n",
        "print('w0: ', theta0)\n",
        "print('w1: ', theta1)\n",
        "print('w2: ', theta2)\n",
        "print('w3: ', theta3)"
      ],
      "execution_count": null,
      "outputs": []
    },
    {
      "cell_type": "code",
      "metadata": {
        "id": "fki7awug8_TE"
      },
      "source": [
        "difference = np.abs(np.subtract(predictedY,trainingY))\n",
        "yoyo = np.divide(difference, trainingY)\n",
        "error = np.multiply(yoyo,100)\n",
        "accuracy = 100 - np.mean(error)\n",
        "print('Error: ', np.mean(error))\n",
        "print('Accuracy: ', accuracy)"
      ],
      "execution_count": null,
      "outputs": []
    },
    {
      "cell_type": "code",
      "metadata": {
        "id": "8FdCyjWd8_TF"
      },
      "source": [
        "# RESULT:\n",
        "# By decreasing the value of tau, error is increasing . That means \n",
        "# that if range of values is less, accuracy will be more."
      ],
      "execution_count": null,
      "outputs": []
    },
    {
      "cell_type": "code",
      "metadata": {
        "id": "BdJ9FThz8_TF"
      },
      "source": [
        "# LWR gives better results as compared to Gradient Descent Algorithm , Gradient Descent Algorithm with feature scaling & Gradient Descent Algorithm with regularization"
      ],
      "execution_count": null,
      "outputs": []
    }
  ]
}